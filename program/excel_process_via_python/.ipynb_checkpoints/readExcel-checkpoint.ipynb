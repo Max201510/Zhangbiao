{
 "cells": [
  {
   "cell_type": "code",
   "execution_count": 1,
   "metadata": {
    "collapsed": true
   },
   "outputs": [],
   "source": [
    "import pandas as pd\n",
    "from pandas import ExcelWriter\n",
    "from pandas import ExcelFile\n",
    "\n",
    "sheet_name_1 = '7'\n",
    "sheet_name_2 = '8'\n",
    "file_name = 'minsize4_zotutable.xlsx'\n",
    "\n",
    "df_1 = pd.read_excel(file_name, sheet_name = sheet_name_1)\n",
    "df_2 = pd.read_excel(file_name, sheet_name = sheet_name_2)"
   ]
  },
  {
   "cell_type": "code",
   "execution_count": 2,
   "metadata": {
    "collapsed": true
   },
   "outputs": [],
   "source": [
    "df_1.columns = [df_1.columns[0]]+[sheet_name_1+'.'+str(i) for i in df_1.columns[1:]]\n",
    "df_2.columns = [df_1.columns[0]]+[sheet_name_2+'.'+str(i) for i in df_2.columns[1:]]\n",
    "columns = [df_1.columns[0]]+[str(i) for i in df_1.columns[1:]]+[str(i) for i in df_2.columns[1:]]\n",
    "cb = pd.concat([df_1, df_2], axis=0)\n",
    "cb = cb[columns]\n",
    "cb = cb.fillna(0)"
   ]
  },
  {
   "cell_type": "code",
   "execution_count": 3,
   "metadata": {
    "collapsed": true
   },
   "outputs": [],
   "source": [
    "cb = cb.groupby('OTUId', sort=False).sum()"
   ]
  },
  {
   "cell_type": "code",
   "execution_count": 4,
   "metadata": {
    "collapsed": true
   },
   "outputs": [],
   "source": [
    "writer = pd.ExcelWriter(sheet_name_1+'_'+sheet_name_2+'.xlsx')\n",
    "cb.to_excel(writer, sheet_name='combined_'+sheet_name_1+'_'+sheet_name_2)\n",
    "writer.save()"
   ]
  }
 ],
 "metadata": {
  "kernelspec": {
   "display_name": "Python 3",
   "language": "python",
   "name": "python3"
  },
  "language_info": {
   "codemirror_mode": {
    "name": "ipython",
    "version": 3
   },
   "file_extension": ".py",
   "mimetype": "text/x-python",
   "name": "python",
   "nbconvert_exporter": "python",
   "pygments_lexer": "ipython3",
   "version": "3.6.3"
  }
 },
 "nbformat": 4,
 "nbformat_minor": 2
}
